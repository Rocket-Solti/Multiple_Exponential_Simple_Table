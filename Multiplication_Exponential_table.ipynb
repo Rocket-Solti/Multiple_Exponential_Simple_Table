{
 "cells": [
  {
   "cell_type": "markdown",
   "metadata": {},
   "source": [
    "Multiplication or Exponnent Table for any decimal valued numbers. \n",
    "this is  a lenthy method to do this without function , just to learn..\n"
   ]
  },
  {
   "cell_type": "code",
   "execution_count": 12,
   "metadata": {},
   "outputs": [
    {
     "name": "stdout",
     "output_type": "stream",
     "text": [
      "Welcome to Multiplication/ Exponential Table Program\n",
      "\n",
      "Hello, what is your name :Amrit\n",
      "What number would you like to work with:5\n",
      "\n",
      "Multiplication Table for 5.0\n",
      "\n",
      "\t 1.0 * 5.0 = 5.0\n",
      "\n",
      "\t 2.0 * 5.0 = 10.0\n",
      "\n",
      "\t 3.0 * 5.0 = 15.0\n",
      "\n",
      "\t 4.0 * 5.0 = 20.0\n",
      "\n",
      "\t 5.0 * 5.0 = 25.0\n",
      "\n",
      "\t 6.0 * 5.0 = 30.0\n",
      "\n",
      "\t 7.0 * 5.0 = 35.0\n",
      "\n",
      "\t 8.0 * 5.0 = 40.0\n",
      "\n",
      "\t 9.0 * 5.0 = 45.0\n",
      "\n",
      "\t 10.0 * 5.0 = 50.0\n",
      "\n",
      "Exponential Table for 5.0\n",
      "\n",
      "\t5.0 ^ 1.0  = 1.0\n",
      "\n",
      "\t5.0 ^ 2.0  = 32.0\n",
      "\n",
      "\t5.0 ^ 3.0  = 243.0\n",
      "\n",
      "\t5.0 ^ 4.0  = 1024.0\n",
      "\n",
      "\t5.0 ^ 5.0  = 3125.0\n",
      "\n",
      "\t5.0 ^ 6.0  = 7776.0\n",
      "\n",
      "\t5.0 ^ 7.0  = 16807.0\n",
      "\n",
      "\t5.0 ^ 8.0  = 32768.0\n",
      "\n",
      "\t5.0 ^ 9.0  = 59049.0\n",
      "\n",
      "\t5.0 ^ 10.0  = 100000.0\n"
     ]
    }
   ],
   "source": [
    "print('Welcome to Multiplication/ Exponential Table Program')\n",
    "\n",
    "name=input('\\nHello, what is your name :').title().strip()\n",
    "num= float (input('What number would you like to work with:'))\n",
    "message=name+', Math is Awesome'\n",
    "\n",
    "#multiplication table\n",
    "print('\\nMultiplication Table for ' + str(num))\n",
    "print('\\n\\t 1.0 * ' + str(num) + ' = ' + str(round(1*num,4)))\n",
    "print('\\n\\t 2.0 * ' + str(num) + ' = ' + str(round(2*num,4)))\n",
    "print('\\n\\t 3.0 * ' + str(num) + ' = ' + str(round(3*num,4)))\n",
    "print('\\n\\t 4.0 * ' + str(num) + ' = ' + str(round(4*num,4)))\n",
    "print('\\n\\t 5.0 * ' + str(num) + ' = ' + str(round(5*num,4)))\n",
    "print('\\n\\t 6.0 * ' + str(num) + ' = ' + str(round(6*num,4)))\n",
    "print('\\n\\t 7.0 * ' + str(num) + ' = ' + str(round(7*num,4)))\n",
    "print('\\n\\t 8.0 * ' + str(num) + ' = ' + str(round(8*num,4)))\n",
    "print('\\n\\t 9.0 * ' + str(num) + ' = ' + str(round(9*num,4)))\n",
    "print('\\n\\t 10.0 * ' + str(num) + ' = ' + str(round(10*num,4)))\n",
    "#Exponential Table\n",
    "print('\\nExponential Table for ' + str(num))\n",
    "print('\\n\\t' + str(num) +' ^ 1.0  = ' + str(round(1**num,4)))\n",
    "print('\\n\\t' + str(num) +' ^ 2.0  = ' + str(round(2**num,4)))\n",
    "print('\\n\\t' + str(num) +' ^ 3.0  = ' + str(round(3**num,4)))\n",
    "print('\\n\\t' + str(num) +' ^ 4.0  = ' + str(round(4**num,4)))\n",
    "print('\\n\\t' + str(num) +' ^ 5.0  = ' + str(round(5**num,4)))\n",
    "print('\\n\\t' + str(num) +' ^ 6.0  = ' + str(round(6**num,4)))\n",
    "print('\\n\\t' + str(num) +' ^ 7.0  = ' + str(round(7**num,4)))\n",
    "print('\\n\\t' + str(num) +' ^ 8.0  = ' + str(round(8**num,4)))\n",
    "print('\\n\\t' + str(num) +' ^ 9.0  = ' + str(round(9**num,4)))\n",
    "print('\\n\\t' + str(num) +' ^ 10.0  = ' + str(round(10**num,4)))\n",
    "\n"
   ]
  },
  {
   "cell_type": "code",
   "execution_count": null,
   "metadata": {},
   "outputs": [],
   "source": []
  }
 ],
 "metadata": {
  "kernelspec": {
   "display_name": "Python 3",
   "language": "python",
   "name": "python3"
  },
  "language_info": {
   "codemirror_mode": {
    "name": "ipython",
    "version": 3
   },
   "file_extension": ".py",
   "mimetype": "text/x-python",
   "name": "python",
   "nbconvert_exporter": "python",
   "pygments_lexer": "ipython3",
   "version": "3.7.3"
  }
 },
 "nbformat": 4,
 "nbformat_minor": 2
}
